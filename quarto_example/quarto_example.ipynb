{
  "cells": [
    {
      "cell_type": "raw",
      "metadata": {},
      "source": [
        "---\n",
        "title: \"quarto_example\"\n",
        "---"
      ],
      "id": "660af52e"
    },
    {
      "cell_type": "markdown",
      "metadata": {},
      "source": [
        "## Quarto\n",
        "\n",
        "Quarto enables you to weave together content and executable code into a finished document. To learn more about Quarto see <https://quarto.org>.\n"
      ],
      "id": "60dac2be"
    },
    {
      "cell_type": "code",
      "metadata": {},
      "source": [
        "print('hi from python')"
      ],
      "id": "f9d0a24d",
      "execution_count": null,
      "outputs": []
    }
  ],
  "metadata": {
    "kernelspec": {
      "name": "python3",
      "language": "python",
      "display_name": "Python 3 (ipykernel)"
    }
  },
  "nbformat": 4,
  "nbformat_minor": 5
}